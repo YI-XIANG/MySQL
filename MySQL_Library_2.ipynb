{
 "cells": [
  {
   "cell_type": "code",
   "execution_count": 2,
   "id": "tamil-florence",
   "metadata": {},
   "outputs": [],
   "source": [
    "import pymysql\n",
    "# Open database connection\n",
    "db = pymysql.connect(\n",
    "  host=\"localhost\",\n",
    "  user=\"root\",\n",
    "  password=\"123456\",\n",
    "  database=\"library_system\"\n",
    ")\n",
    "cursor = db.cursor()"
   ]
  },
  {
   "cell_type": "code",
   "execution_count": 4,
   "id": "compound-needle",
   "metadata": {},
   "outputs": [
    {
     "data": {
      "text/plain": [
       "0"
      ]
     },
     "execution_count": 4,
     "metadata": {},
     "output_type": "execute_result"
    }
   ],
   "source": [
    "sql_dept = \"\"\"CREATE TABLE `student_Dept` (\n",
    "  `Did` INT NOT NULL,\n",
    "  `Dept` VARCHAR(20) NOT NULL,\n",
    "  PRIMARY KEY (`Did`)\n",
    ") \"\"\"\n",
    "cursor.execute(sql_dept)\n",
    "print(\"Created table Successfull\")"
   ]
  },
  {
   "cell_type": "code",
   "execution_count": 6,
   "id": "center-spank",
   "metadata": {},
   "outputs": [
    {
     "name": "stdout",
     "output_type": "stream",
     "text": [
      "Created table Successfull\n"
     ]
    }
   ],
   "source": [
    "sql_student = \"\"\"CREATE TABLE `student` (\n",
    "  `Sno` INT PRIMARY KEY NOT NULL,\n",
    "  `Did` INT  NOT NULL,\n",
    "  `Sname` CHAR(20) NOT NULL,\n",
    "  `Sex` INT(1) NOT NULL,\n",
    "  `Sphone` CHAR(10) NOT NULL,\n",
    "  `Sadd` VARCHAR(30) NOT NULL,\n",
    "  FOREIGN KEY (`Did`) REFERENCES student_Dept(`Did`)\n",
    ") \"\"\"\n",
    "cursor.execute(sql_student)\n",
    "print(\"Created table Successfull\")"
   ]
  },
  {
   "cell_type": "code",
   "execution_count": 7,
   "id": "arabic-flash",
   "metadata": {},
   "outputs": [
    {
     "name": "stdout",
     "output_type": "stream",
     "text": [
      "Created table Successfull\n"
     ]
    }
   ],
   "source": [
    "sql_Publisher = \"\"\"CREATE TABLE `publisher` (\n",
    "  `Pid` INT PRIMARY KEY NOT NULL,\n",
    "  `Pname` VARCHAR(20) NOT NULL,\n",
    "  `Pman` VARCHAR(20) NOT NULL\n",
    ") \"\"\"\n",
    "cursor.execute(sql_Publisher)\n",
    "print(\"Created table Successfull\")"
   ]
  },
  {
   "cell_type": "code",
   "execution_count": 8,
   "id": "appropriate-pharmaceutical",
   "metadata": {},
   "outputs": [
    {
     "name": "stdout",
     "output_type": "stream",
     "text": [
      "Created table Successfull\n"
     ]
    }
   ],
   "source": [
    "sql_Book = \"\"\"CREATE TABLE `book` (\n",
    "  `Bid` INT PRIMARY KEY NOT NULL,\n",
    "  `Pid` INT NOT NULL,\n",
    "  `Bname` VARCHAR(20) NOT NULL,\n",
    "  `Btype` INT NOT NULL,\n",
    "  `Price` INT NOT NULL,\n",
    "  FOREIGN KEY (`Pid`) REFERENCES publisher(`Pid`)\n",
    ") \"\"\"\n",
    "cursor.execute(sql_Book)\n",
    "print(\"Created table Successfull\")"
   ]
  },
  {
   "cell_type": "code",
   "execution_count": 11,
   "id": "violent-effects",
   "metadata": {},
   "outputs": [
    {
     "name": "stdout",
     "output_type": "stream",
     "text": [
      "Created table Successfull\n"
     ]
    }
   ],
   "source": [
    "sql_Teacher = \"\"\"CREATE TABLE `teacher` (\n",
    "  `Tid` INT PRIMARY KEY NOT NULL,\n",
    "  `Tname` VARCHAR(20) NOT NULL,\n",
    "  `Tdept` VARCHAR(20) NOT NULL,\n",
    "  `Tphone` CHAR(10) NOT NULL\n",
    ") \"\"\"\n",
    "cursor.execute(sql_Teacher)\n",
    "print(\"Created table Successfull\")"
   ]
  },
  {
   "cell_type": "code",
   "execution_count": 20,
   "id": "turkish-singing",
   "metadata": {},
   "outputs": [
    {
     "name": "stdout",
     "output_type": "stream",
     "text": [
      "Created table Successfull\n"
     ]
    }
   ],
   "source": [
    "sql_Borrow = \"\"\"CREATE TABLE `borrow` (\n",
    "  `Borrow_id` INT PRIMARY KEY AUTO_INCREMENT,\n",
    "  `Sno` INT NOT NULL,\n",
    "  `Bid` INT NOT NULL,\n",
    "  `Tid` INT NOT NULL,\n",
    "  `Bdate` DATETIME NOT NULL,\n",
    "  `Gdate` DATETIME NOT NULL,\n",
    "  FOREIGN KEY (`Sno`) REFERENCES student(`Sno`),\n",
    "  FOREIGN KEY (`Bid`) REFERENCES book(`Bid`),\n",
    "  FOREIGN KEY (`Tid`) REFERENCES teacher(`Tid`)\n",
    ") \"\"\"\n",
    "cursor.execute(sql_Borrow)\n",
    "print(\"Created table Successfull\")"
   ]
  },
  {
   "cell_type": "code",
   "execution_count": 21,
   "id": "psychological-advantage",
   "metadata": {},
   "outputs": [],
   "source": [
    "# disconnect from server\n",
    "db.close()"
   ]
  },
  {
   "cell_type": "code",
   "execution_count": null,
   "id": "strategic-carter",
   "metadata": {},
   "outputs": [],
   "source": []
  }
 ],
 "metadata": {
  "kernelspec": {
   "display_name": "Python 3",
   "language": "python",
   "name": "python3"
  },
  "language_info": {
   "codemirror_mode": {
    "name": "ipython",
    "version": 3
   },
   "file_extension": ".py",
   "mimetype": "text/x-python",
   "name": "python",
   "nbconvert_exporter": "python",
   "pygments_lexer": "ipython3",
   "version": "3.7.10"
  }
 },
 "nbformat": 4,
 "nbformat_minor": 5
}
